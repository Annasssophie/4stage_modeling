{
 "cells": [
  {
   "cell_type": "code",
   "execution_count": 1,
   "metadata": {},
   "outputs": [
    {
     "ename": "ModuleNotFoundError",
     "evalue": "No module named 'pandas'",
     "output_type": "error",
     "traceback": [
      "\u001b[0;31m---------------------------------------------------------------------------\u001b[0m",
      "\u001b[0;31mModuleNotFoundError\u001b[0m                       Traceback (most recent call last)",
      "Cell \u001b[0;32mIn[1], line 1\u001b[0m\n\u001b[0;32m----> 1\u001b[0m \u001b[38;5;28;01mimport\u001b[39;00m\u001b[38;5;250m \u001b[39m\u001b[38;5;21;01mpandas\u001b[39;00m\u001b[38;5;250m \u001b[39m\u001b[38;5;28;01mas\u001b[39;00m\u001b[38;5;250m \u001b[39m\u001b[38;5;21;01mpd\u001b[39;00m\n\u001b[1;32m      2\u001b[0m \u001b[38;5;28;01mimport\u001b[39;00m\u001b[38;5;250m \u001b[39m\u001b[38;5;21;01mnumpy\u001b[39;00m\u001b[38;5;250m \u001b[39m\u001b[38;5;28;01mas\u001b[39;00m\u001b[38;5;250m \u001b[39m\u001b[38;5;21;01mnp\u001b[39;00m\n\u001b[1;32m      4\u001b[0m \u001b[38;5;66;03m# Example: Define zones and their attributes\u001b[39;00m\n",
      "\u001b[0;31mModuleNotFoundError\u001b[0m: No module named 'pandas'"
     ]
    }
   ],
   "source": [
    "import pandas as pd\n",
    "import numpy as np\n",
    "\n",
    "# Example: Define zones and their attributes\n",
    "data = {\n",
    "    \"Zone\": [1, 2, 3, 4],\n",
    "    \"Households\": [100, 200, 150, 250],\n",
    "    \"Employment\": [50, 300, 100, 400],\n",
    "    \"Population\": [300, 600, 450, 800],\n",
    "    \"RetailArea\": [20, 50, 30, 60],\n",
    "    \"AverageIncome\": [40000, 50000, 45000, 55000]\n",
    "}\n",
    "\n",
    "# Create a DataFrame\n",
    "zones = pd.DataFrame(data)\n",
    "\n",
    "# Define Trip Production and Attraction models\n",
    "# These coefficients are hypothetical and can be adjusted\n",
    "# Trip Production = a * Households + b * Population + c * RetailArea + d * AverageIncome + e\n",
    "# Trip Attraction = f * Employment + g * Population + h * RetailArea + i * AverageIncome + j\n",
    "\n",
    "production_coefficients = {\"a\": 0.4, \"b\": 0.2, \"c\": 0.1, \"d\": 0.00001, \"e\": 15}\n",
    "attraction_coefficients = {\"f\": 0.3, \"g\": 0.2, \"h\": 0.15, \"i\": 0.00002, \"j\": 10}\n",
    "\n",
    "def calculate_trip_production(row):\n",
    "    return (production_coefficients[\"a\"] * row[\"Households\"] +\n",
    "            production_coefficients[\"b\"] * row[\"Population\"] +\n",
    "            production_coefficients[\"c\"] * row[\"RetailArea\"] +\n",
    "            production_coefficients[\"d\"] * row[\"AverageIncome\"] +\n",
    "            production_coefficients[\"e\"])\n",
    "\n",
    "def calculate_trip_attraction(row):\n",
    "    return (attraction_coefficients[\"f\"] * row[\"Employment\"] +\n",
    "            attraction_coefficients[\"g\"] * row[\"Population\"] +\n",
    "            attraction_coefficients[\"h\"] * row[\"RetailArea\"] +\n",
    "            attraction_coefficients[\"i\"] * row[\"AverageIncome\"] +\n",
    "            attraction_coefficients[\"j\"])\n",
    "\n",
    "# Apply the models\n",
    "zones[\"Trip_Productions\"] = zones.apply(calculate_trip_production, axis=1)\n",
    "zones[\"Trip_Attractions\"] = zones.apply(calculate_trip_attraction, axis=1)\n",
    "\n",
    "# Normalize productions and attractions to ensure balance\n",
    "\n",
    "total_productions = zones[\"Trip_Productions\"].sum()\n",
    "total_attractions = zones[\"Trip_Attractions\"].sum()\n",
    "\n",
    "\n",
    "# Output the results\n",
    "print(\"Trip Generation Results:\")\n",
    "print(zones)\n"
   ]
  }
 ],
 "metadata": {
  "kernelspec": {
   "display_name": "Python 3",
   "language": "python",
   "name": "python3"
  },
  "language_info": {
   "codemirror_mode": {
    "name": "ipython",
    "version": 3
   },
   "file_extension": ".py",
   "mimetype": "text/x-python",
   "name": "python",
   "nbconvert_exporter": "python",
   "pygments_lexer": "ipython3",
   "version": "3.12.8"
  }
 },
 "nbformat": 4,
 "nbformat_minor": 2
}
