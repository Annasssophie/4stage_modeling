{
 "cells": [
  {
   "cell_type": "code",
   "execution_count": 1,
   "metadata": {},
   "outputs": [],
   "source": [
    "import pandas as pd\n",
    "import numpy as np\n"
   ]
  },
  {
   "cell_type": "code",
   "execution_count": 2,
   "metadata": {},
   "outputs": [],
   "source": [
    "\n",
    "# Example: Define zones and their attributes\n",
    "data = {\n",
    "    \"Zone\": [1, 2, 3, 4],\n",
    "    \"Households\": [100, 200, 150, 250],\n",
    "    \"Employment\": [50, 300, 100, 400],\n",
    "    \"Population\": [300, 600, 450, 800],\n",
    "    \"RetailArea\": [20, 50, 30, 60],\n",
    "    \"AverageIncome\": [40000, 50000, 45000, 55000]\n",
    "}\n",
    "\n",
    "# Create a DataFrame\n",
    "zones = pd.DataFrame(data)\n"
   ]
  },
  {
   "cell_type": "code",
   "execution_count": 3,
   "metadata": {},
   "outputs": [],
   "source": [
    "\n",
    "# Define Trip Production and Attraction models\n",
    "# These coefficients are hypothetical and can be adjusted\n",
    "# Trip Production = a * Households + b * Population + c * RetailArea + d * AverageIncome + e\n",
    "# Trip Attraction = f * Employment + g * Population + h * RetailArea + i * AverageIncome + j\n",
    "\n",
    "production_coefficients = {\"a\": 0.4, \"b\": 0.2, \"c\": 0.1, \"d\": 0.00001, \"e\": 15}\n",
    "attraction_coefficients = {\"f\": 0.3, \"g\": 0.2, \"h\": 0.15, \"i\": 0.00002, \"j\": 10}\n",
    "\n",
    "def calculate_trip_production(row):\n",
    "    return (production_coefficients[\"a\"] * row[\"Households\"] +\n",
    "            production_coefficients[\"b\"] * row[\"Population\"] +\n",
    "            production_coefficients[\"c\"] * row[\"RetailArea\"] +\n",
    "            production_coefficients[\"d\"] * row[\"AverageIncome\"] +\n",
    "            production_coefficients[\"e\"])\n",
    "\n",
    "def calculate_trip_attraction(row):\n",
    "    return (attraction_coefficients[\"f\"] * row[\"Employment\"] +\n",
    "            attraction_coefficients[\"g\"] * row[\"Population\"] +\n",
    "            attraction_coefficients[\"h\"] * row[\"RetailArea\"] +\n",
    "            attraction_coefficients[\"i\"] * row[\"AverageIncome\"] +\n",
    "            attraction_coefficients[\"j\"])\n"
   ]
  },
  {
   "cell_type": "code",
   "execution_count": 4,
   "metadata": {},
   "outputs": [
    {
     "name": "stdout",
     "output_type": "stream",
     "text": [
      "Trip Generation Results:\n",
      "   Zone  Households  Employment  Population  RetailArea  AverageIncome  \\\n",
      "0     1         100          50         300          20          40000   \n",
      "1     2         200         300         600          50          50000   \n",
      "2     3         150         100         450          30          45000   \n",
      "3     4         250         400         800          60          55000   \n",
      "\n",
      "   Trip_Productions  Trip_Attractions  \n",
      "0            117.40              88.8  \n",
      "1            220.50             228.5  \n",
      "2            168.45             135.4  \n",
      "3            281.55             300.1  \n"
     ]
    }
   ],
   "source": [
    "\n",
    "# Apply the models\n",
    "zones[\"Trip_Productions\"] = zones.apply(calculate_trip_production, axis=1)\n",
    "zones[\"Trip_Attractions\"] = zones.apply(calculate_trip_attraction, axis=1)\n",
    "\n",
    "# Normalize productions and attractions to ensure balance\n",
    "\n",
    "total_productions = zones[\"Trip_Productions\"].sum()\n",
    "total_attractions = zones[\"Trip_Attractions\"].sum()\n",
    "\n",
    "\n",
    "# Output the results\n",
    "print(\"Trip Generation Results:\")\n",
    "print(zones)\n"
   ]
  }
 ],
 "metadata": {
  "kernelspec": {
   "display_name": "Python 3",
   "language": "python",
   "name": "python3"
  },
  "language_info": {
   "codemirror_mode": {
    "name": "ipython",
    "version": 3
   },
   "file_extension": ".py",
   "mimetype": "text/x-python",
   "name": "python",
   "nbconvert_exporter": "python",
   "pygments_lexer": "ipython3",
   "version": "3.12.8"
  }
 },
 "nbformat": 4,
 "nbformat_minor": 2
}
